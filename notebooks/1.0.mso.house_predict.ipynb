{
 "cells": [
  {
   "cell_type": "markdown",
   "metadata": {},
   "source": [
    "# 0.0 Imports"
   ]
  },
  {
   "cell_type": "code",
   "execution_count": 2,
   "metadata": {},
   "outputs": [],
   "source": [
    "import re\n",
    "import os\n",
    "import inflection\n",
    "\n",
    "import pandas  as  pd\n",
    "import numpy   as  np \n",
    "import seaborn as sns\n",
    "\n",
    "import warnings\n",
    "warnings.filterwarnings('ignore')"
   ]
  },
  {
   "cell_type": "markdown",
   "metadata": {},
   "source": [
    "## 0.1 Helper Functions"
   ]
  },
  {
   "cell_type": "markdown",
   "metadata": {},
   "source": [
    "## 0.2 Loading data"
   ]
  },
  {
   "cell_type": "markdown",
   "metadata": {},
   "source": [
    "### Dict of data\n",
    "\n",
    "city: Cidade em que se localiza o imovel \n",
    "\n",
    "area: m² do imovel\n",
    "\n",
    "rooms: Quantidade de salas\n",
    "\n",
    "bathroom: Quantidade de banheiros\n",
    "\n",
    "parking spaces: Se possui vaga de garagem\n",
    "\n",
    "floor: Andar em que o apto se encontra\n",
    "\n",
    "animal: Se aceita ou não animal\n",
    "\n",
    "furniture: Mobiliado ou não\n",
    "\n",
    "hoa (R$): Valor do condominio\n",
    "\n",
    "rent amount (R$): Valor do aluguel\n",
    "\n",
    "property tax (R$): Valor do IPTU\n",
    "\n",
    "fire insurance (R$): Valor do Seguro de Incendio\n",
    "\n",
    "total (R$): Valor total (Variavel preditora)"
   ]
  },
  {
   "cell_type": "code",
   "execution_count": 48,
   "metadata": {},
   "outputs": [],
   "source": [
    "path = \"../data/\"\n",
    "df_raw = pd.read_csv(path + \"/raw/house_data.csv\", sep = \",\")"
   ]
  },
  {
   "cell_type": "code",
   "execution_count": 3,
   "metadata": {},
   "outputs": [
    {
     "data": {
      "text/html": [
       "<div>\n",
       "<style scoped>\n",
       "    .dataframe tbody tr th:only-of-type {\n",
       "        vertical-align: middle;\n",
       "    }\n",
       "\n",
       "    .dataframe tbody tr th {\n",
       "        vertical-align: top;\n",
       "    }\n",
       "\n",
       "    .dataframe thead th {\n",
       "        text-align: right;\n",
       "    }\n",
       "</style>\n",
       "<table border=\"1\" class=\"dataframe\">\n",
       "  <thead>\n",
       "    <tr style=\"text-align: right;\">\n",
       "      <th></th>\n",
       "      <th>city</th>\n",
       "      <th>area</th>\n",
       "      <th>rooms</th>\n",
       "      <th>bathroom</th>\n",
       "      <th>parking spaces</th>\n",
       "      <th>floor</th>\n",
       "      <th>animal</th>\n",
       "      <th>furniture</th>\n",
       "      <th>hoa (R$)</th>\n",
       "      <th>rent amount (R$)</th>\n",
       "      <th>property tax (R$)</th>\n",
       "      <th>fire insurance (R$)</th>\n",
       "      <th>total (R$)</th>\n",
       "    </tr>\n",
       "  </thead>\n",
       "  <tbody>\n",
       "    <tr>\n",
       "      <th>2425</th>\n",
       "      <td>São Paulo</td>\n",
       "      <td>116</td>\n",
       "      <td>3</td>\n",
       "      <td>2</td>\n",
       "      <td>2</td>\n",
       "      <td>5</td>\n",
       "      <td>acept</td>\n",
       "      <td>not furnished</td>\n",
       "      <td>1884</td>\n",
       "      <td>3800</td>\n",
       "      <td>518</td>\n",
       "      <td>49</td>\n",
       "      <td>6251</td>\n",
       "    </tr>\n",
       "  </tbody>\n",
       "</table>\n",
       "</div>"
      ],
      "text/plain": [
       "           city  area  rooms  bathroom  parking spaces floor animal  \\\n",
       "2425  São Paulo   116      3         2               2     5  acept   \n",
       "\n",
       "          furniture  hoa (R$)  rent amount (R$)  property tax (R$)  \\\n",
       "2425  not furnished      1884              3800                518   \n",
       "\n",
       "      fire insurance (R$)  total (R$)  \n",
       "2425                   49        6251  "
      ]
     },
     "execution_count": 3,
     "metadata": {},
     "output_type": "execute_result"
    }
   ],
   "source": [
    "df_raw.sample()"
   ]
  },
  {
   "cell_type": "code",
   "execution_count": 9,
   "metadata": {},
   "outputs": [
    {
     "data": {
      "text/html": [
       "<div>\n",
       "<style scoped>\n",
       "    .dataframe tbody tr th:only-of-type {\n",
       "        vertical-align: middle;\n",
       "    }\n",
       "\n",
       "    .dataframe tbody tr th {\n",
       "        vertical-align: top;\n",
       "    }\n",
       "\n",
       "    .dataframe thead th {\n",
       "        text-align: right;\n",
       "    }\n",
       "</style>\n",
       "<table border=\"1\" class=\"dataframe\">\n",
       "  <thead>\n",
       "    <tr style=\"text-align: right;\">\n",
       "      <th></th>\n",
       "      <th>city</th>\n",
       "      <th>area</th>\n",
       "      <th>rooms</th>\n",
       "      <th>bathroom</th>\n",
       "      <th>parking spaces</th>\n",
       "      <th>floor</th>\n",
       "      <th>animal</th>\n",
       "      <th>furniture</th>\n",
       "      <th>hoa (R$)</th>\n",
       "      <th>rent amount (R$)</th>\n",
       "      <th>property tax (R$)</th>\n",
       "    </tr>\n",
       "  </thead>\n",
       "  <tbody>\n",
       "    <tr>\n",
       "      <th>0</th>\n",
       "      <td>São Paulo</td>\n",
       "      <td>70</td>\n",
       "      <td>2</td>\n",
       "      <td>1</td>\n",
       "      <td>1</td>\n",
       "      <td>7</td>\n",
       "      <td>acept</td>\n",
       "      <td>furnished</td>\n",
       "      <td>2065</td>\n",
       "      <td>3300</td>\n",
       "      <td>211</td>\n",
       "    </tr>\n",
       "    <tr>\n",
       "      <th>1</th>\n",
       "      <td>São Paulo</td>\n",
       "      <td>320</td>\n",
       "      <td>4</td>\n",
       "      <td>4</td>\n",
       "      <td>0</td>\n",
       "      <td>20</td>\n",
       "      <td>acept</td>\n",
       "      <td>not furnished</td>\n",
       "      <td>1200</td>\n",
       "      <td>4960</td>\n",
       "      <td>1750</td>\n",
       "    </tr>\n",
       "    <tr>\n",
       "      <th>2</th>\n",
       "      <td>Porto Alegre</td>\n",
       "      <td>80</td>\n",
       "      <td>1</td>\n",
       "      <td>1</td>\n",
       "      <td>1</td>\n",
       "      <td>6</td>\n",
       "      <td>acept</td>\n",
       "      <td>not furnished</td>\n",
       "      <td>1000</td>\n",
       "      <td>2800</td>\n",
       "      <td>0</td>\n",
       "    </tr>\n",
       "    <tr>\n",
       "      <th>3</th>\n",
       "      <td>Porto Alegre</td>\n",
       "      <td>51</td>\n",
       "      <td>2</td>\n",
       "      <td>1</td>\n",
       "      <td>0</td>\n",
       "      <td>2</td>\n",
       "      <td>acept</td>\n",
       "      <td>not furnished</td>\n",
       "      <td>270</td>\n",
       "      <td>1112</td>\n",
       "      <td>22</td>\n",
       "    </tr>\n",
       "    <tr>\n",
       "      <th>4</th>\n",
       "      <td>São Paulo</td>\n",
       "      <td>25</td>\n",
       "      <td>1</td>\n",
       "      <td>1</td>\n",
       "      <td>0</td>\n",
       "      <td>1</td>\n",
       "      <td>not acept</td>\n",
       "      <td>not furnished</td>\n",
       "      <td>0</td>\n",
       "      <td>800</td>\n",
       "      <td>25</td>\n",
       "    </tr>\n",
       "  </tbody>\n",
       "</table>\n",
       "</div>"
      ],
      "text/plain": [
       "           city  area  rooms  bathroom  parking spaces floor     animal  \\\n",
       "0     São Paulo    70      2         1               1     7      acept   \n",
       "1     São Paulo   320      4         4               0    20      acept   \n",
       "2  Porto Alegre    80      1         1               1     6      acept   \n",
       "3  Porto Alegre    51      2         1               0     2      acept   \n",
       "4     São Paulo    25      1         1               0     1  not acept   \n",
       "\n",
       "       furniture  hoa (R$)  rent amount (R$)  property tax (R$)  \n",
       "0      furnished      2065              3300                211  \n",
       "1  not furnished      1200              4960               1750  \n",
       "2  not furnished      1000              2800                  0  \n",
       "3  not furnished       270              1112                 22  \n",
       "4  not furnished         0               800                 25  "
      ]
     },
     "execution_count": 9,
     "metadata": {},
     "output_type": "execute_result"
    }
   ],
   "source": [
    "# Will not use columns fire insurance (R$) and total (R$)\n",
    "#df_raw.drop(columns= [\"fire insurance (R$)\", \"total (R$)\"], inplace = True)\n",
    "#df_raw.head()"
   ]
  },
  {
   "cell_type": "markdown",
   "metadata": {},
   "source": [
    "# 1.0 Data Description"
   ]
  },
  {
   "cell_type": "code",
   "execution_count": 49,
   "metadata": {},
   "outputs": [],
   "source": [
    "df1 = df_raw"
   ]
  },
  {
   "cell_type": "markdown",
   "metadata": {},
   "source": [
    "## 1.1 Rename Columns"
   ]
  },
  {
   "cell_type": "code",
   "execution_count": 50,
   "metadata": {},
   "outputs": [
    {
     "data": {
      "text/plain": [
       "Index(['city', 'area', 'rooms', 'bathroom', 'parking spaces', 'floor',\n",
       "       'animal', 'furniture', 'hoa (R$)', 'rent amount (R$)',\n",
       "       'property tax (R$)', 'fire insurance (R$)', 'total (R$)'],\n",
       "      dtype='object')"
      ]
     },
     "execution_count": 50,
     "metadata": {},
     "output_type": "execute_result"
    }
   ],
   "source": [
    "df1.columns"
   ]
  },
  {
   "cell_type": "code",
   "execution_count": 51,
   "metadata": {},
   "outputs": [],
   "source": [
    "cols_new = ['city','area','rooms','bathroom','parking_spaces','floor',\n",
    "'animal','furniture','hoa','rent_amount',\n",
    "'property_tax','fire_insurance','total']"
   ]
  },
  {
   "cell_type": "code",
   "execution_count": 52,
   "metadata": {},
   "outputs": [
    {
     "data": {
      "text/plain": [
       "Index(['city', 'area', 'rooms', 'bathroom', 'parking_spaces', 'floor',\n",
       "       'animal', 'furniture', 'hoa', 'rent_amount', 'property_tax',\n",
       "       'fire_insurance', 'total'],\n",
       "      dtype='object')"
      ]
     },
     "execution_count": 52,
     "metadata": {},
     "output_type": "execute_result"
    }
   ],
   "source": [
    "df1.columns = cols_new\n",
    "df1.columns"
   ]
  },
  {
   "cell_type": "markdown",
   "metadata": {},
   "source": [
    "## 1.2. Data Dimensions"
   ]
  },
  {
   "cell_type": "code",
   "execution_count": 53,
   "metadata": {},
   "outputs": [
    {
     "name": "stdout",
     "output_type": "stream",
     "text": [
      "Number of Rows: 10692\n",
      "Number of Columns: 13\n"
     ]
    }
   ],
   "source": [
    "print('Number of Rows: {}'.format(df1.shape[0]))\n",
    "print('Number of Columns: {}'.format(df1.shape[1]))"
   ]
  },
  {
   "cell_type": "markdown",
   "metadata": {},
   "source": [
    "## 1.3. Data Types"
   ]
  },
  {
   "cell_type": "code",
   "execution_count": 54,
   "metadata": {},
   "outputs": [
    {
     "data": {
      "text/plain": [
       "city              object\n",
       "area               int64\n",
       "rooms              int64\n",
       "bathroom           int64\n",
       "parking_spaces     int64\n",
       "floor             object\n",
       "animal            object\n",
       "furniture         object\n",
       "hoa                int64\n",
       "rent_amount        int64\n",
       "property_tax       int64\n",
       "fire_insurance     int64\n",
       "total              int64\n",
       "dtype: object"
      ]
     },
     "execution_count": 54,
     "metadata": {},
     "output_type": "execute_result"
    }
   ],
   "source": [
    "df1.dtypes"
   ]
  },
  {
   "cell_type": "markdown",
   "metadata": {},
   "source": [
    "## 1.4. Check NA"
   ]
  },
  {
   "cell_type": "code",
   "execution_count": 55,
   "metadata": {},
   "outputs": [
    {
     "data": {
      "text/plain": [
       "city              0\n",
       "area              0\n",
       "rooms             0\n",
       "bathroom          0\n",
       "parking_spaces    0\n",
       "floor             0\n",
       "animal            0\n",
       "furniture         0\n",
       "hoa               0\n",
       "rent_amount       0\n",
       "property_tax      0\n",
       "fire_insurance    0\n",
       "total             0\n",
       "dtype: int64"
      ]
     },
     "execution_count": 55,
     "metadata": {},
     "output_type": "execute_result"
    }
   ],
   "source": [
    "df1.isnull().sum()"
   ]
  },
  {
   "cell_type": "markdown",
   "metadata": {},
   "source": [
    "## 1.5. Check Unique Values"
   ]
  },
  {
   "cell_type": "code",
   "execution_count": 56,
   "metadata": {},
   "outputs": [
    {
     "data": {
      "text/plain": [
       "city                 5\n",
       "area               517\n",
       "rooms               11\n",
       "bathroom            10\n",
       "parking_spaces      11\n",
       "floor               35\n",
       "animal               2\n",
       "furniture            2\n",
       "hoa               1679\n",
       "rent_amount       1195\n",
       "property_tax      1243\n",
       "fire_insurance     216\n",
       "total             5751\n",
       "dtype: int64"
      ]
     },
     "execution_count": 56,
     "metadata": {},
     "output_type": "execute_result"
    }
   ],
   "source": [
    "df1.nunique()"
   ]
  },
  {
   "cell_type": "markdown",
   "metadata": {},
   "source": [
    "## 1.6. Cleaning Data"
   ]
  },
  {
   "cell_type": "code",
   "execution_count": 57,
   "metadata": {},
   "outputs": [],
   "source": [
    "num_attributes = df1.select_dtypes(include = [\"int64\"])\n",
    "cat_attributes = df1.select_dtypes(exclude = [\"int64\"])"
   ]
  },
  {
   "cell_type": "code",
   "execution_count": 62,
   "metadata": {},
   "outputs": [
    {
     "name": "stdout",
     "output_type": "stream",
     "text": [
      "city \n",
      " São Paulo         55.059858\n",
      "Rio de Janeiro    14.038533\n",
      "Belo Horizonte    11.765806\n",
      "Porto Alegre      11.157875\n",
      "Campinas           7.977927\n",
      "Name: city, dtype: float64 \n",
      "\n",
      "floor \n",
      " 0     23.017209\n",
      "1     10.110363\n",
      "2      9.212495\n",
      "3      8.707445\n",
      "4      6.995885\n",
      "5      5.611672\n",
      "6      5.041152\n",
      "7      4.648335\n",
      "8      4.582866\n",
      "9      3.451178\n",
      "10     3.338945\n",
      "11     2.833895\n",
      "12     2.403666\n",
      "13     1.870557\n",
      "14     1.589974\n",
      "15     1.374860\n",
      "16     1.019454\n",
      "17     0.897868\n",
      "18     0.701459\n",
      "19     0.495698\n",
      "20     0.411523\n",
      "21     0.392817\n",
      "25     0.233820\n",
      "23     0.233820\n",
      "22     0.224467\n",
      "26     0.187056\n",
      "24     0.177703\n",
      "27     0.074822\n",
      "28     0.056117\n",
      "29     0.046764\n",
      "32     0.018706\n",
      "35     0.009353\n",
      "46     0.009353\n",
      "30     0.009353\n",
      "51     0.009353\n",
      "Name: floor, dtype: float64 \n",
      "\n",
      "animal \n",
      " acept        77.777778\n",
      "not acept    22.222222\n",
      "Name: animal, dtype: float64 \n",
      "\n",
      "furniture \n",
      " not furnished    75.626637\n",
      "furnished        24.373363\n",
      "Name: furniture, dtype: float64 \n",
      "\n"
     ]
    }
   ],
   "source": [
    "# Check Categorical Variables\n",
    "for column in cat_attributes:\n",
    "\n",
    "    check_cat = df1[column].value_counts(normalize=True) * 100\n",
    "\n",
    "    print(column, '\\n', check_cat, '\\n')"
   ]
  },
  {
   "cell_type": "code",
   "execution_count": 61,
   "metadata": {},
   "outputs": [],
   "source": [
    "# Fixing column floor\n",
    "df1.iloc[2562, 5] = 30\n",
    "\n",
    "df1['floor'] = df1['floor'].apply(lambda x: 0 if x == '-' else x)\n",
    "\n",
    "df1['floor'] = pd.to_numeric(df1['floor'])\n"
   ]
  },
  {
   "cell_type": "code",
   "execution_count": 63,
   "metadata": {},
   "outputs": [],
   "source": [
    "num_attributes1 = df1.select_dtypes(include = [\"int64\"])\n",
    "cat_attributes1 = df1.select_dtypes(exclude = [\"int64\"])"
   ]
  },
  {
   "cell_type": "code",
   "execution_count": 64,
   "metadata": {},
   "outputs": [],
   "source": [
    "# Central Tendency - mean, median\n",
    "ct1 = pd.DataFrame( num_attributes1.apply(np.mean)).T\n",
    "ct2 = pd.DataFrame( num_attributes1.apply(np.median)).T\n",
    "\n",
    "# Dispersion - std, min, max, range, skew, kurtosis\n",
    "d1 = pd.DataFrame(num_attributes1.apply(np.std)).T\n",
    "d2 = pd.DataFrame(num_attributes1.apply(min)).T\n",
    "d3 = pd.DataFrame(num_attributes1.apply(max)).T\n",
    "d4 = pd.DataFrame(num_attributes1.apply(lambda x: x.max() - x.min())).T\n",
    "d5 = pd.DataFrame(num_attributes1.apply(lambda x: x.skew())).T\n",
    "d6 = pd.DataFrame(num_attributes1.apply(lambda x: x.kurtosis())).T\n",
    "\n",
    "# Concatenate\n",
    "m = pd.concat( [ d2, d3, d4, ct1, ct2, d1, d5, d6]).T.reset_index()\n",
    "m.columns = [\"attributes\",\"min\",\"max\",\"range\",\"mean\",\"median\",\"std\",\"skew\",\"kurtosis\"]"
   ]
  },
  {
   "cell_type": "code",
   "execution_count": 65,
   "metadata": {},
   "outputs": [
    {
     "data": {
      "text/html": [
       "<div>\n",
       "<style scoped>\n",
       "    .dataframe tbody tr th:only-of-type {\n",
       "        vertical-align: middle;\n",
       "    }\n",
       "\n",
       "    .dataframe tbody tr th {\n",
       "        vertical-align: top;\n",
       "    }\n",
       "\n",
       "    .dataframe thead th {\n",
       "        text-align: right;\n",
       "    }\n",
       "</style>\n",
       "<table border=\"1\" class=\"dataframe\">\n",
       "  <thead>\n",
       "    <tr style=\"text-align: right;\">\n",
       "      <th></th>\n",
       "      <th>attributes</th>\n",
       "      <th>min</th>\n",
       "      <th>max</th>\n",
       "      <th>range</th>\n",
       "      <th>mean</th>\n",
       "      <th>median</th>\n",
       "      <th>std</th>\n",
       "      <th>skew</th>\n",
       "      <th>kurtosis</th>\n",
       "    </tr>\n",
       "  </thead>\n",
       "  <tbody>\n",
       "    <tr>\n",
       "      <th>0</th>\n",
       "      <td>area</td>\n",
       "      <td>11.0</td>\n",
       "      <td>46335.0</td>\n",
       "      <td>46324.0</td>\n",
       "      <td>149.217920</td>\n",
       "      <td>90.0</td>\n",
       "      <td>536.991829</td>\n",
       "      <td>69.596804</td>\n",
       "      <td>5548.308334</td>\n",
       "    </tr>\n",
       "    <tr>\n",
       "      <th>1</th>\n",
       "      <td>rooms</td>\n",
       "      <td>1.0</td>\n",
       "      <td>13.0</td>\n",
       "      <td>12.0</td>\n",
       "      <td>2.506079</td>\n",
       "      <td>2.0</td>\n",
       "      <td>1.171211</td>\n",
       "      <td>0.702391</td>\n",
       "      <td>1.487659</td>\n",
       "    </tr>\n",
       "    <tr>\n",
       "      <th>2</th>\n",
       "      <td>bathroom</td>\n",
       "      <td>1.0</td>\n",
       "      <td>10.0</td>\n",
       "      <td>9.0</td>\n",
       "      <td>2.236813</td>\n",
       "      <td>2.0</td>\n",
       "      <td>1.407132</td>\n",
       "      <td>1.213810</td>\n",
       "      <td>1.134852</td>\n",
       "    </tr>\n",
       "    <tr>\n",
       "      <th>3</th>\n",
       "      <td>parking_spaces</td>\n",
       "      <td>0.0</td>\n",
       "      <td>12.0</td>\n",
       "      <td>12.0</td>\n",
       "      <td>1.609147</td>\n",
       "      <td>1.0</td>\n",
       "      <td>1.589446</td>\n",
       "      <td>1.487534</td>\n",
       "      <td>2.769075</td>\n",
       "    </tr>\n",
       "    <tr>\n",
       "      <th>4</th>\n",
       "      <td>floor</td>\n",
       "      <td>0.0</td>\n",
       "      <td>51.0</td>\n",
       "      <td>51.0</td>\n",
       "      <td>5.042649</td>\n",
       "      <td>3.0</td>\n",
       "      <td>5.356925</td>\n",
       "      <td>1.435172</td>\n",
       "      <td>2.544460</td>\n",
       "    </tr>\n",
       "    <tr>\n",
       "      <th>5</th>\n",
       "      <td>hoa</td>\n",
       "      <td>0.0</td>\n",
       "      <td>1117000.0</td>\n",
       "      <td>1117000.0</td>\n",
       "      <td>1174.021698</td>\n",
       "      <td>560.0</td>\n",
       "      <td>15591.576074</td>\n",
       "      <td>69.039381</td>\n",
       "      <td>4912.249106</td>\n",
       "    </tr>\n",
       "    <tr>\n",
       "      <th>6</th>\n",
       "      <td>rent_amount</td>\n",
       "      <td>450.0</td>\n",
       "      <td>45000.0</td>\n",
       "      <td>44550.0</td>\n",
       "      <td>3896.247194</td>\n",
       "      <td>2661.0</td>\n",
       "      <td>3408.386117</td>\n",
       "      <td>1.838877</td>\n",
       "      <td>4.624228</td>\n",
       "    </tr>\n",
       "    <tr>\n",
       "      <th>7</th>\n",
       "      <td>property_tax</td>\n",
       "      <td>0.0</td>\n",
       "      <td>313700.0</td>\n",
       "      <td>313700.0</td>\n",
       "      <td>366.704358</td>\n",
       "      <td>125.0</td>\n",
       "      <td>3107.686983</td>\n",
       "      <td>96.013594</td>\n",
       "      <td>9667.782564</td>\n",
       "    </tr>\n",
       "    <tr>\n",
       "      <th>8</th>\n",
       "      <td>fire_insurance</td>\n",
       "      <td>3.0</td>\n",
       "      <td>677.0</td>\n",
       "      <td>674.0</td>\n",
       "      <td>53.300879</td>\n",
       "      <td>36.0</td>\n",
       "      <td>47.765797</td>\n",
       "      <td>1.970400</td>\n",
       "      <td>5.934963</td>\n",
       "    </tr>\n",
       "    <tr>\n",
       "      <th>9</th>\n",
       "      <td>total</td>\n",
       "      <td>499.0</td>\n",
       "      <td>1120000.0</td>\n",
       "      <td>1119501.0</td>\n",
       "      <td>5490.487000</td>\n",
       "      <td>3581.5</td>\n",
       "      <td>16483.955004</td>\n",
       "      <td>58.960803</td>\n",
       "      <td>3926.019305</td>\n",
       "    </tr>\n",
       "  </tbody>\n",
       "</table>\n",
       "</div>"
      ],
      "text/plain": [
       "       attributes    min        max      range         mean  median  \\\n",
       "0            area   11.0    46335.0    46324.0   149.217920    90.0   \n",
       "1           rooms    1.0       13.0       12.0     2.506079     2.0   \n",
       "2        bathroom    1.0       10.0        9.0     2.236813     2.0   \n",
       "3  parking_spaces    0.0       12.0       12.0     1.609147     1.0   \n",
       "4           floor    0.0       51.0       51.0     5.042649     3.0   \n",
       "5             hoa    0.0  1117000.0  1117000.0  1174.021698   560.0   \n",
       "6     rent_amount  450.0    45000.0    44550.0  3896.247194  2661.0   \n",
       "7    property_tax    0.0   313700.0   313700.0   366.704358   125.0   \n",
       "8  fire_insurance    3.0      677.0      674.0    53.300879    36.0   \n",
       "9           total  499.0  1120000.0  1119501.0  5490.487000  3581.5   \n",
       "\n",
       "            std       skew     kurtosis  \n",
       "0    536.991829  69.596804  5548.308334  \n",
       "1      1.171211   0.702391     1.487659  \n",
       "2      1.407132   1.213810     1.134852  \n",
       "3      1.589446   1.487534     2.769075  \n",
       "4      5.356925   1.435172     2.544460  \n",
       "5  15591.576074  69.039381  4912.249106  \n",
       "6   3408.386117   1.838877     4.624228  \n",
       "7   3107.686983  96.013594  9667.782564  \n",
       "8     47.765797   1.970400     5.934963  \n",
       "9  16483.955004  58.960803  3926.019305  "
      ]
     },
     "execution_count": 65,
     "metadata": {},
     "output_type": "execute_result"
    }
   ],
   "source": [
    "m"
   ]
  },
  {
   "cell_type": "code",
   "execution_count": 67,
   "metadata": {},
   "outputs": [
    {
     "data": {
      "text/plain": [
       "city         5\n",
       "animal       2\n",
       "furniture    2\n",
       "dtype: int64"
      ]
     },
     "execution_count": 67,
     "metadata": {},
     "output_type": "execute_result"
    }
   ],
   "source": [
    "cat_attributes1.apply(lambda x: x.unique().shape[0])"
   ]
  },
  {
   "cell_type": "markdown",
   "metadata": {},
   "source": [
    "# 4.0 EDA"
   ]
  },
  {
   "cell_type": "markdown",
   "metadata": {},
   "source": [
    "# 2.0 Feature Engineering"
   ]
  },
  {
   "cell_type": "markdown",
   "metadata": {},
   "source": [
    "# 3.0 Data Filtering"
   ]
  },
  {
   "cell_type": "markdown",
   "metadata": {},
   "source": [
    "# 5.0 Data Preparation"
   ]
  },
  {
   "cell_type": "markdown",
   "metadata": {},
   "source": [
    "# 6.0 Feature Selection"
   ]
  },
  {
   "cell_type": "markdown",
   "metadata": {},
   "source": [
    "# 7.0 Machine Learning Modelling"
   ]
  },
  {
   "cell_type": "markdown",
   "metadata": {},
   "source": [
    "# 8.0 Hyperparameter Fine Tuning"
   ]
  },
  {
   "cell_type": "markdown",
   "metadata": {},
   "source": [
    "# 9.0 Translation and Interpretration Error"
   ]
  }
 ],
 "metadata": {
  "kernelspec": {
   "display_name": "Python 3.10.4 ('house_predict')",
   "language": "python",
   "name": "python3"
  },
  "language_info": {
   "codemirror_mode": {
    "name": "ipython",
    "version": 3
   },
   "file_extension": ".py",
   "mimetype": "text/x-python",
   "name": "python",
   "nbconvert_exporter": "python",
   "pygments_lexer": "ipython3",
   "version": "3.10.4"
  },
  "orig_nbformat": 4,
  "vscode": {
   "interpreter": {
    "hash": "cdac0438b2a5556bed03b7f1c89eff0abb63f3fad98907c5e5ca70b74d021733"
   }
  }
 },
 "nbformat": 4,
 "nbformat_minor": 2
}
